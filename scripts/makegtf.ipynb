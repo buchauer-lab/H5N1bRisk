{
 "cells": [
  {
   "cell_type": "code",
   "execution_count": null,
   "id": "0",
   "metadata": {},
   "outputs": [],
   "source": [
    "import pandas as pd\n",
    "from Bio import SeqIO\n",
    "import os"
   ]
  },
  {
   "cell_type": "code",
   "execution_count": null,
   "id": "1",
   "metadata": {},
   "outputs": [],
   "source": [
    "datapath = \"/data/cephfs-1/work/groups/buchauer/h5n1risk/genomes/individualGenomes/\"\n",
    "fasta_files = [f for f in os.listdir(datapath) if f.endswith('_vir.fasta')]\n",
    "gtf_files = [os.path.splitext(os.path.basename(f))[0] + \".gtf\" for f in fasta_files] "
   ]
  },
  {
   "cell_type": "code",
   "execution_count": null,
   "id": "2",
   "metadata": {},
   "outputs": [],
   "source": [
    "all_records = []\n",
    "\n",
    "for input_fasta in fasta_files:\n",
    "    fasta_path = datapath + input_fasta\n",
    "    records = list(SeqIO.parse(fasta_path, \"fasta\"))\n",
    "\n",
    "    for record in records:\n",
    "        all_records.append({\n",
    "            \"input_fasta\": input_fasta,\n",
    "            \"seq_id\": record.id,\n",
    "            \"seq_length\": len(record.seq),\n",
    "            \"seq_description\": record.description.split(\" | \")[-1]\n",
    "        })\n",
    "\n",
    "# Create DataFrame\n",
    "df = pd.DataFrame(all_records)"
   ]
  },
  {
   "cell_type": "code",
   "execution_count": null,
   "id": "3",
   "metadata": {},
   "outputs": [],
   "source": [
    "df.sort_values(by=\"seq_id\")"
   ]
  },
  {
   "cell_type": "code",
   "execution_count": null,
   "id": "4",
   "metadata": {},
   "outputs": [],
   "source": [
    "for input_fasta, output_gtf in zip(fasta_files, gtf_files):\n",
    "    with open(datapath + output_gtf, \"w\") as out_gtf:\n",
    "        for record in SeqIO.parse(datapath + input_fasta, \"fasta\"):\n",
    "            gene_name = record.id\n",
    "            chrom = record.id \n",
    "            start = 1\n",
    "            end = len(record.seq)\n",
    "            strand = \"+\"  \n",
    "            \n",
    "            for feature in [\"gene\", \"exon\"]:\n",
    "                out_gtf.write(\n",
    "                    f\"{chrom}\\tcustom\\t{feature}\\t{start}\\t{end}\\t.\\t{strand}\\t.\\t\"\n",
    "                    f'gene_id \"{gene_name}\"; transcript_id \"{gene_name}\";\\n'\n",
    "                )\n",
    "    \n",
    "    print(f\"{output_gtf}\")"
   ]
  }
 ],
 "metadata": {
  "kernelspec": {
   "display_name": "Python 3 (ipykernel)",
   "language": "python",
   "name": "python3"
  },
  "language_info": {
   "codemirror_mode": {
    "name": "ipython",
    "version": 3
   },
   "file_extension": ".py",
   "mimetype": "text/x-python",
   "name": "python",
   "nbconvert_exporter": "python",
   "pygments_lexer": "ipython3",
   "version": "3.12.7"
  }
 },
 "nbformat": 4,
 "nbformat_minor": 5
}
